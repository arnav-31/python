{
  "nbformat": 4,
  "nbformat_minor": 0,
  "metadata": {
    "colab": {
      "provenance": [],
      "authorship_tag": "ABX9TyOmydqo5zn9iQWceaQJKvaL",
      "include_colab_link": true
    },
    "kernelspec": {
      "name": "python3",
      "display_name": "Python 3"
    },
    "language_info": {
      "name": "python"
    }
  },
  "cells": [
    {
      "cell_type": "markdown",
      "metadata": {
        "id": "view-in-github",
        "colab_type": "text"
      },
      "source": [
        "<a href=\"https://colab.research.google.com/github/arnav-31/python/blob/main/Untitled2.ipynb\" target=\"_parent\"><img src=\"https://colab.research.google.com/assets/colab-badge.svg\" alt=\"Open In Colab\"/></a>"
      ]
    },
    {
      "cell_type": "code",
      "execution_count": null,
      "metadata": {
        "id": "948UL21eXja4"
      },
      "outputs": [],
      "source": [
        "import random\n",
        "\n",
        "user_wins = 0\n",
        "computer_wins = 0\n",
        "\n",
        "options = [\"rock\", \"paper\", \"scissors\"]\n",
        "\n",
        "while True:\n",
        "    user_input = input(\"Type Rock/Paper/Scissors or Q to quit: \").lower()\n",
        "    if user_input == \"q\":\n",
        "        break\n",
        "\n",
        "    if user_input not in options:\n",
        "        continue\n",
        "\n",
        "    random_number = random.randint(0, 2)\n",
        "    # rock: 0, paper: 1, scissors: 2\n",
        "    computer_pick = options[random_number]\n",
        "    print(\"Computer picked\", computer_pick + \".\")\n",
        "\n",
        "    if user_input == \"rock\" and computer_pick == \"scissors\":\n",
        "        print(\"You won!\")\n",
        "        user_wins += 1\n",
        "\n",
        "    elif user_input == \"paper\" and computer_pick == \"rock\":\n",
        "        print(\"You won!\")\n",
        "        user_wins += 1\n",
        "\n",
        "    elif user_input == \"scissors\" and computer_pick == \"paper\":\n",
        "        print(\"You won!\")\n",
        "        user_wins += 1\n",
        "\n",
        "    else:\n",
        "        print(\"You lost!\")\n",
        "        computer_wins += 1\n",
        "\n",
        "print(\"You won\", user_wins, \"times.\")\n",
        "print(\"The computer won\", computer_wins, \"times.\")\n",
        "print(\"Goodbye!\")"
      ]
    }
  ]
}