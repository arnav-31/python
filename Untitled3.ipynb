{
  "nbformat": 4,
  "nbformat_minor": 0,
  "metadata": {
    "colab": {
      "provenance": [],
      "authorship_tag": "ABX9TyNqx6+pp/7ljVmk1yIlKefx",
      "include_colab_link": true
    },
    "kernelspec": {
      "name": "python3",
      "display_name": "Python 3"
    },
    "language_info": {
      "name": "python"
    }
  },
  "cells": [
    {
      "cell_type": "markdown",
      "metadata": {
        "id": "view-in-github",
        "colab_type": "text"
      },
      "source": [
        "<a href=\"https://colab.research.google.com/github/arnav-31/python/blob/main/Untitled3.ipynb\" target=\"_parent\"><img src=\"https://colab.research.google.com/assets/colab-badge.svg\" alt=\"Open In Colab\"/></a>"
      ]
    },
    {
      "cell_type": "code",
      "execution_count": 2,
      "metadata": {
        "colab": {
          "base_uri": "https://localhost:8080/"
        },
        "id": "I6AM33dvikRQ",
        "outputId": "bf7ef738-3377-4a4c-ec22-6940769ff086"
      },
      "outputs": [
        {
          "output_type": "stream",
          "name": "stdout",
          "text": [
            "Notes App Menu:\n",
            "1. View all notes\n",
            "2. Add a note\n",
            "3. Delete a note\n",
            "4. Exit\n",
            "Enter your choice: 4\n",
            "Exiting Notes App.\n"
          ]
        }
      ],
      "source": [
        "import os\n",
        "\n",
        "def display_menu():\n",
        "    print(\"Notes App Menu:\")\n",
        "    print(\"1. View all notes\")\n",
        "    print(\"2. Add a note\")\n",
        "    print(\"3. Delete a note\")\n",
        "    print(\"4. Exit\")\n",
        "\n",
        "def view_notes():\n",
        "    if not os.path.exists(\"notes.txt\"):\n",
        "        print(\"No notes available.\")\n",
        "        return\n",
        "    with open(\"notes.txt\", \"r\") as file:\n",
        "        notes = file.readlines()\n",
        "        for idx, note in enumerate(notes, start=1):\n",
        "            print(f\"{idx}. {note.strip()}\")\n",
        "\n",
        "def add_note():\n",
        "    note = input(\"Enter your note: \")\n",
        "    with open(\"notes.txt\", \"a\") as file:\n",
        "        file.write(note + \"\\n\")\n",
        "    print(\"Note added successfully.\")\n",
        "\n",
        "def delete_note():\n",
        "    view_notes()\n",
        "    choice = input(\"Enter the number of the note to delete: \")\n",
        "    try:\n",
        "        choice = int(choice)\n",
        "        with open(\"notes.txt\", \"r\") as file:\n",
        "            notes = file.readlines()\n",
        "        with open(\"notes.txt\", \"w\") as file:\n",
        "            for idx, note in enumerate(notes, start=1):\n",
        "                if idx != choice:\n",
        "                    file.write(note)\n",
        "        print(\"Note deleted successfully.\")\n",
        "    except ValueError:\n",
        "        print(\"Invalid choice.\")\n",
        "\n",
        "def main():\n",
        "    while True:\n",
        "        display_menu()\n",
        "        choice = input(\"Enter your choice: \")\n",
        "        if choice == \"1\":\n",
        "            view_notes()\n",
        "        elif choice == \"2\":\n",
        "            add_note()\n",
        "        elif choice == \"3\":\n",
        "            delete_note()\n",
        "        elif choice == \"4\":\n",
        "            print(\"Exiting Notes App.\")\n",
        "            break\n",
        "        else:\n",
        "            print(\"Invalid choice. Please choose again.\")\n",
        "\n",
        "if __name__ == \"__main__\":\n",
        "    main()"
      ]
    }
  ]
}